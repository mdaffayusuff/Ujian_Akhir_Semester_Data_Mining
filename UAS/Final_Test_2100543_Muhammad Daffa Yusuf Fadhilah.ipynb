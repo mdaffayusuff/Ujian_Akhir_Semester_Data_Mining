{
 "cells": [
  {
   "attachments": {},
   "cell_type": "markdown",
   "metadata": {},
   "source": [
    "# Ujian Akhir Semester Data Mining"
   ]
  },
  {
   "attachments": {},
   "cell_type": "markdown",
   "metadata": {},
   "source": [
    "- Muhammad Daffa Yusuf Fadhilah\n",
    "- 2100543\n",
    "- Ilmu Komputer C2 2021"
   ]
  },
  {
   "cell_type": "code",
   "execution_count": 226,
   "metadata": {},
   "outputs": [],
   "source": [
    "import pandas as pd\n",
    "import numpy as np\n",
    "import matplotlib.pyplot as plt\n",
    "import seaborn as sns\n",
    "\n",
    "from sklearn import preprocessing"
   ]
  },
  {
   "attachments": {},
   "cell_type": "markdown",
   "metadata": {},
   "source": [
    "### Import Data"
   ]
  },
  {
   "attachments": {},
   "cell_type": "markdown",
   "metadata": {},
   "source": [
    "Melihat data pmi dimana memiliki jangka tahun 2010-2022"
   ]
  },
  {
   "cell_type": "code",
   "execution_count": 227,
   "metadata": {},
   "outputs": [
    {
     "data": {
      "text/plain": [
       "2022    34\n",
       "2021    34\n",
       "2020    34\n",
       "2019    34\n",
       "2018    34\n",
       "2017    34\n",
       "2016    34\n",
       "2015    34\n",
       "2014    34\n",
       "2013    34\n",
       "2012    34\n",
       "2011    34\n",
       "2010    34\n",
       "Name: tahun, dtype: int64"
      ]
     },
     "execution_count": 227,
     "metadata": {},
     "output_type": "execute_result"
    }
   ],
   "source": [
    "data_pmi = pd.read_csv('https://raw.githubusercontent.com/mdaffayusuff/Ujian_Akhir_Semester_Data_Mining/main/UAS/dataset_uas_datamining_jan_23/pmi.csv')\n",
    "data_pmi.tahun.value_counts()"
   ]
  },
  {
   "attachments": {},
   "cell_type": "markdown",
   "metadata": {},
   "source": [
    "Melihat data persenan penyewa rumah dimana memiliki jangka tahun 2015-2021"
   ]
  },
  {
   "cell_type": "code",
   "execution_count": 228,
   "metadata": {},
   "outputs": [
    {
     "data": {
      "text/plain": [
       "2021    35\n",
       "2020    35\n",
       "2019    35\n",
       "2018    35\n",
       "2017    35\n",
       "2016    35\n",
       "2015    35\n",
       "Name: tahun, dtype: int64"
      ]
     },
     "execution_count": 228,
     "metadata": {},
     "output_type": "execute_result"
    }
   ],
   "source": [
    "data_menyewa_rumah = pd.read_csv('https://raw.githubusercontent.com/mdaffayusuff/Ujian_Akhir_Semester_Data_Mining/main/UAS/dataset_uas_datamining_jan_23/persen_rumah_menyewa.csv')\n",
    "data_menyewa_rumah.tahun.value_counts()"
   ]
  },
  {
   "attachments": {},
   "cell_type": "markdown",
   "metadata": {},
   "source": [
    "Melihat data keterampilan dalam tik dimana memiliki jangka tahun 2015-2021"
   ]
  },
  {
   "cell_type": "code",
   "execution_count": 229,
   "metadata": {},
   "outputs": [
    {
     "data": {
      "text/plain": [
       "2021    35\n",
       "2020    35\n",
       "2019    35\n",
       "2018    35\n",
       "2017    35\n",
       "2016    35\n",
       "2015    35\n",
       "Name: tahun, dtype: int64"
      ]
     },
     "execution_count": 229,
     "metadata": {},
     "output_type": "execute_result"
    }
   ],
   "source": [
    "data_trampil = pd.read_csv('https://raw.githubusercontent.com/mdaffayusuff/Ujian_Akhir_Semester_Data_Mining/main/UAS/dataset_uas_datamining_jan_23/persen_penduduk_trampil_tik.csv')\n",
    "data_trampil.tahun.value_counts()"
   ]
  },
  {
   "attachments": {},
   "cell_type": "markdown",
   "metadata": {},
   "source": [
    "Data persenan ketidak cukupan dalam pangan dimana memiliki jangka tahun 2017-2021"
   ]
  },
  {
   "cell_type": "code",
   "execution_count": 230,
   "metadata": {},
   "outputs": [
    {
     "data": {
      "text/plain": [
       "2021    35\n",
       "2020    35\n",
       "2019    35\n",
       "2018    35\n",
       "2017    35\n",
       "Name: tahun, dtype: int64"
      ]
     },
     "execution_count": 230,
     "metadata": {},
     "output_type": "execute_result"
    }
   ],
   "source": [
    "data_tidakcukupPangan = pd.read_csv('https://raw.githubusercontent.com/mdaffayusuff/Ujian_Akhir_Semester_Data_Mining/main/UAS/dataset_uas_datamining_jan_23/ketidak_cukupan_pangan_prov.csv')\n",
    "data_tidakcukupPangan.tahun.value_counts()"
   ]
  },
  {
   "attachments": {},
   "cell_type": "markdown",
   "metadata": {},
   "source": [
    "Data proporsi kerja non informal pada sektor non-pertanian dimana memiliki jangka tahun 2015-2021"
   ]
  },
  {
   "cell_type": "code",
   "execution_count": 231,
   "metadata": {},
   "outputs": [
    {
     "data": {
      "text/plain": [
       "2021    35\n",
       "2020    35\n",
       "2019    35\n",
       "2018    35\n",
       "2017    35\n",
       "2016    35\n",
       "2015    35\n",
       "Name: tahun, dtype: int64"
      ]
     },
     "execution_count": 231,
     "metadata": {},
     "output_type": "execute_result"
    }
   ],
   "source": [
    "data_proporsiKerja = pd.read_csv('https://raw.githubusercontent.com/mdaffayusuff/Ujian_Akhir_Semester_Data_Mining/main/UAS/dataset_uas_datamining_jan_23/proporsi_kerja_informal_nonpertanian.csv')\n",
    "data_proporsiKerja.tahun.value_counts()"
   ]
  },
  {
   "attachments": {},
   "cell_type": "markdown",
   "metadata": {},
   "source": [
    "Data persen rumah dengan fasilitas cuci tangan dengan sabun memiliki jangka tahun 2016-2021"
   ]
  },
  {
   "cell_type": "code",
   "execution_count": 232,
   "metadata": {},
   "outputs": [
    {
     "data": {
      "text/plain": [
       "2021    35\n",
       "2020    35\n",
       "2019    35\n",
       "2018    35\n",
       "2017    35\n",
       "2016    35\n",
       "Name: tahun, dtype: int64"
      ]
     },
     "execution_count": 232,
     "metadata": {},
     "output_type": "execute_result"
    }
   ],
   "source": [
    "data_fasilitasSabun = pd.read_csv('https://raw.githubusercontent.com/mdaffayusuff/Ujian_Akhir_Semester_Data_Mining/main/UAS/dataset_uas_datamining_jan_23/persen_rumah_dgn_fasilitas_cuci_tangan_sabun.csv')\n",
    "data_fasilitasSabun.tahun.value_counts()"
   ]
  },
  {
   "attachments": {},
   "cell_type": "markdown",
   "metadata": {},
   "source": [
    "### Praproses"
   ]
  },
  {
   "attachments": {},
   "cell_type": "markdown",
   "metadata": {},
   "source": [
    "##### Merge Tabel"
   ]
  },
  {
   "attachments": {},
   "cell_type": "markdown",
   "metadata": {},
   "source": [
    "Dikarenakan data lain mayoritas tidak memiliki data tahun 2022, maka data tahun 2022 akan diabaikan"
   ]
  },
  {
   "cell_type": "code",
   "execution_count": 233,
   "metadata": {},
   "outputs": [
    {
     "data": {
      "text/html": [
       "<div>\n",
       "<style scoped>\n",
       "    .dataframe tbody tr th:only-of-type {\n",
       "        vertical-align: middle;\n",
       "    }\n",
       "\n",
       "    .dataframe tbody tr th {\n",
       "        vertical-align: top;\n",
       "    }\n",
       "\n",
       "    .dataframe thead th {\n",
       "        text-align: right;\n",
       "    }\n",
       "</style>\n",
       "<table border=\"1\" class=\"dataframe\">\n",
       "  <thead>\n",
       "    <tr style=\"text-align: right;\">\n",
       "      <th></th>\n",
       "      <th>prov</th>\n",
       "      <th>tahun</th>\n",
       "      <th>kategori_pmi</th>\n",
       "    </tr>\n",
       "  </thead>\n",
       "  <tbody>\n",
       "    <tr>\n",
       "      <th>34</th>\n",
       "      <td>ACEH</td>\n",
       "      <td>2021</td>\n",
       "      <td>TINGGI</td>\n",
       "    </tr>\n",
       "    <tr>\n",
       "      <th>35</th>\n",
       "      <td>SUMATERA UTARA</td>\n",
       "      <td>2021</td>\n",
       "      <td>TINGGI</td>\n",
       "    </tr>\n",
       "    <tr>\n",
       "      <th>36</th>\n",
       "      <td>SUMATERA BARAT</td>\n",
       "      <td>2021</td>\n",
       "      <td>TINGGI</td>\n",
       "    </tr>\n",
       "    <tr>\n",
       "      <th>37</th>\n",
       "      <td>RIAU</td>\n",
       "      <td>2021</td>\n",
       "      <td>TINGGI</td>\n",
       "    </tr>\n",
       "    <tr>\n",
       "      <th>38</th>\n",
       "      <td>JAMBI</td>\n",
       "      <td>2021</td>\n",
       "      <td>TINGGI</td>\n",
       "    </tr>\n",
       "    <tr>\n",
       "      <th>...</th>\n",
       "      <td>...</td>\n",
       "      <td>...</td>\n",
       "      <td>...</td>\n",
       "    </tr>\n",
       "    <tr>\n",
       "      <th>437</th>\n",
       "      <td>SULAWESI BARAT</td>\n",
       "      <td>2010</td>\n",
       "      <td>SANGAT RENDAH</td>\n",
       "    </tr>\n",
       "    <tr>\n",
       "      <th>438</th>\n",
       "      <td>MALUKU</td>\n",
       "      <td>2010</td>\n",
       "      <td>SEDANG</td>\n",
       "    </tr>\n",
       "    <tr>\n",
       "      <th>439</th>\n",
       "      <td>MALUKU UTARA</td>\n",
       "      <td>2010</td>\n",
       "      <td>SEDANG</td>\n",
       "    </tr>\n",
       "    <tr>\n",
       "      <th>440</th>\n",
       "      <td>PAPUA BARAT</td>\n",
       "      <td>2010</td>\n",
       "      <td>SANGAT RENDAH</td>\n",
       "    </tr>\n",
       "    <tr>\n",
       "      <th>441</th>\n",
       "      <td>PAPUA</td>\n",
       "      <td>2010</td>\n",
       "      <td>SANGAT RENDAH</td>\n",
       "    </tr>\n",
       "  </tbody>\n",
       "</table>\n",
       "<p>408 rows × 3 columns</p>\n",
       "</div>"
      ],
      "text/plain": [
       "               prov  tahun   kategori_pmi\n",
       "34             ACEH   2021         TINGGI\n",
       "35   SUMATERA UTARA   2021         TINGGI\n",
       "36   SUMATERA BARAT   2021         TINGGI\n",
       "37             RIAU   2021         TINGGI\n",
       "38            JAMBI   2021         TINGGI\n",
       "..              ...    ...            ...\n",
       "437  SULAWESI BARAT   2010  SANGAT RENDAH\n",
       "438          MALUKU   2010         SEDANG\n",
       "439    MALUKU UTARA   2010         SEDANG\n",
       "440     PAPUA BARAT   2010  SANGAT RENDAH\n",
       "441           PAPUA   2010  SANGAT RENDAH\n",
       "\n",
       "[408 rows x 3 columns]"
      ]
     },
     "execution_count": 233,
     "metadata": {},
     "output_type": "execute_result"
    }
   ],
   "source": [
    "data_pmi_till2021 = data_pmi[(data_pmi.tahun != 2022)]\n",
    "data_pmi_till2021"
   ]
  },
  {
   "attachments": {},
   "cell_type": "markdown",
   "metadata": {},
   "source": [
    "Merge data pmi dengan data ketidak cukupan pangan. Dikarenakan data ketidak cukupan pangan hanya memiliki data dari 2017, maka data ditahun sebelumnya akan diabaikan"
   ]
  },
  {
   "cell_type": "code",
   "execution_count": 234,
   "metadata": {},
   "outputs": [
    {
     "name": "stderr",
     "output_type": "stream",
     "text": [
      "C:\\Users\\user\\AppData\\Local\\Temp\\ipykernel_10340\\3534298359.py:1: UserWarning: Boolean Series key will be reindexed to match DataFrame index.\n",
      "  data_pmi_new = data_pmi_till2021[((data_pmi.tahun >= 2017))].merge(data_tidakcukupPangan, how = 'left', on=['tahun', 'prov'])\n"
     ]
    },
    {
     "data": {
      "text/html": [
       "<div>\n",
       "<style scoped>\n",
       "    .dataframe tbody tr th:only-of-type {\n",
       "        vertical-align: middle;\n",
       "    }\n",
       "\n",
       "    .dataframe tbody tr th {\n",
       "        vertical-align: top;\n",
       "    }\n",
       "\n",
       "    .dataframe thead th {\n",
       "        text-align: right;\n",
       "    }\n",
       "</style>\n",
       "<table border=\"1\" class=\"dataframe\">\n",
       "  <thead>\n",
       "    <tr style=\"text-align: right;\">\n",
       "      <th></th>\n",
       "      <th>prov</th>\n",
       "      <th>tahun</th>\n",
       "      <th>kategori_pmi</th>\n",
       "      <th>pct_tdk_cukup_pangan</th>\n",
       "    </tr>\n",
       "  </thead>\n",
       "  <tbody>\n",
       "    <tr>\n",
       "      <th>0</th>\n",
       "      <td>ACEH</td>\n",
       "      <td>2021</td>\n",
       "      <td>TINGGI</td>\n",
       "      <td>6.90</td>\n",
       "    </tr>\n",
       "    <tr>\n",
       "      <th>1</th>\n",
       "      <td>SUMATERA UTARA</td>\n",
       "      <td>2021</td>\n",
       "      <td>TINGGI</td>\n",
       "      <td>6.33</td>\n",
       "    </tr>\n",
       "    <tr>\n",
       "      <th>2</th>\n",
       "      <td>SUMATERA BARAT</td>\n",
       "      <td>2021</td>\n",
       "      <td>TINGGI</td>\n",
       "      <td>6.02</td>\n",
       "    </tr>\n",
       "    <tr>\n",
       "      <th>3</th>\n",
       "      <td>RIAU</td>\n",
       "      <td>2021</td>\n",
       "      <td>TINGGI</td>\n",
       "      <td>10.61</td>\n",
       "    </tr>\n",
       "    <tr>\n",
       "      <th>4</th>\n",
       "      <td>JAMBI</td>\n",
       "      <td>2021</td>\n",
       "      <td>TINGGI</td>\n",
       "      <td>9.25</td>\n",
       "    </tr>\n",
       "    <tr>\n",
       "      <th>...</th>\n",
       "      <td>...</td>\n",
       "      <td>...</td>\n",
       "      <td>...</td>\n",
       "      <td>...</td>\n",
       "    </tr>\n",
       "    <tr>\n",
       "      <th>165</th>\n",
       "      <td>SULAWESI BARAT</td>\n",
       "      <td>2017</td>\n",
       "      <td>SEDANG</td>\n",
       "      <td>10.59</td>\n",
       "    </tr>\n",
       "    <tr>\n",
       "      <th>166</th>\n",
       "      <td>MALUKU</td>\n",
       "      <td>2017</td>\n",
       "      <td>SEDANG</td>\n",
       "      <td>26.57</td>\n",
       "    </tr>\n",
       "    <tr>\n",
       "      <th>167</th>\n",
       "      <td>MALUKU UTARA</td>\n",
       "      <td>2017</td>\n",
       "      <td>SEDANG</td>\n",
       "      <td>34.05</td>\n",
       "    </tr>\n",
       "    <tr>\n",
       "      <th>168</th>\n",
       "      <td>PAPUA BARAT</td>\n",
       "      <td>2017</td>\n",
       "      <td>SEDANG</td>\n",
       "      <td>27.22</td>\n",
       "    </tr>\n",
       "    <tr>\n",
       "      <th>169</th>\n",
       "      <td>PAPUA</td>\n",
       "      <td>2017</td>\n",
       "      <td>SANGAT RENDAH</td>\n",
       "      <td>34.27</td>\n",
       "    </tr>\n",
       "  </tbody>\n",
       "</table>\n",
       "<p>170 rows × 4 columns</p>\n",
       "</div>"
      ],
      "text/plain": [
       "               prov  tahun   kategori_pmi  pct_tdk_cukup_pangan\n",
       "0              ACEH   2021         TINGGI                  6.90\n",
       "1    SUMATERA UTARA   2021         TINGGI                  6.33\n",
       "2    SUMATERA BARAT   2021         TINGGI                  6.02\n",
       "3              RIAU   2021         TINGGI                 10.61\n",
       "4             JAMBI   2021         TINGGI                  9.25\n",
       "..              ...    ...            ...                   ...\n",
       "165  SULAWESI BARAT   2017         SEDANG                 10.59\n",
       "166          MALUKU   2017         SEDANG                 26.57\n",
       "167    MALUKU UTARA   2017         SEDANG                 34.05\n",
       "168     PAPUA BARAT   2017         SEDANG                 27.22\n",
       "169           PAPUA   2017  SANGAT RENDAH                 34.27\n",
       "\n",
       "[170 rows x 4 columns]"
      ]
     },
     "execution_count": 234,
     "metadata": {},
     "output_type": "execute_result"
    }
   ],
   "source": [
    "data_pmi_new = data_pmi_till2021[((data_pmi.tahun >= 2017))].merge(data_tidakcukupPangan, how = 'left', on=['tahun', 'prov'])\n",
    "data_pmi_new"
   ]
  },
  {
   "attachments": {},
   "cell_type": "markdown",
   "metadata": {},
   "source": [
    "Merge data pmi baru dengan data proporsi kerja informal non pertanian. Dikarenakan data pmi baru hanya memiliki data dari 2017, maka data ditahun sebelumnya akan diabaikan"
   ]
  },
  {
   "cell_type": "code",
   "execution_count": 235,
   "metadata": {},
   "outputs": [
    {
     "data": {
      "text/html": [
       "<div>\n",
       "<style scoped>\n",
       "    .dataframe tbody tr th:only-of-type {\n",
       "        vertical-align: middle;\n",
       "    }\n",
       "\n",
       "    .dataframe tbody tr th {\n",
       "        vertical-align: top;\n",
       "    }\n",
       "\n",
       "    .dataframe thead th {\n",
       "        text-align: right;\n",
       "    }\n",
       "</style>\n",
       "<table border=\"1\" class=\"dataframe\">\n",
       "  <thead>\n",
       "    <tr style=\"text-align: right;\">\n",
       "      <th></th>\n",
       "      <th>prov</th>\n",
       "      <th>tahun</th>\n",
       "      <th>kategori_pmi</th>\n",
       "      <th>pct_tdk_cukup_pangan</th>\n",
       "      <th>proporsi_kerja_informal_nonpertanian</th>\n",
       "    </tr>\n",
       "  </thead>\n",
       "  <tbody>\n",
       "    <tr>\n",
       "      <th>0</th>\n",
       "      <td>ACEH</td>\n",
       "      <td>2021</td>\n",
       "      <td>TINGGI</td>\n",
       "      <td>6.90</td>\n",
       "      <td>46.29</td>\n",
       "    </tr>\n",
       "    <tr>\n",
       "      <th>1</th>\n",
       "      <td>SUMATERA UTARA</td>\n",
       "      <td>2021</td>\n",
       "      <td>TINGGI</td>\n",
       "      <td>6.33</td>\n",
       "      <td>47.53</td>\n",
       "    </tr>\n",
       "    <tr>\n",
       "      <th>2</th>\n",
       "      <td>SUMATERA BARAT</td>\n",
       "      <td>2021</td>\n",
       "      <td>TINGGI</td>\n",
       "      <td>6.02</td>\n",
       "      <td>51.56</td>\n",
       "    </tr>\n",
       "    <tr>\n",
       "      <th>3</th>\n",
       "      <td>RIAU</td>\n",
       "      <td>2021</td>\n",
       "      <td>TINGGI</td>\n",
       "      <td>10.61</td>\n",
       "      <td>44.07</td>\n",
       "    </tr>\n",
       "    <tr>\n",
       "      <th>4</th>\n",
       "      <td>JAMBI</td>\n",
       "      <td>2021</td>\n",
       "      <td>TINGGI</td>\n",
       "      <td>9.25</td>\n",
       "      <td>45.97</td>\n",
       "    </tr>\n",
       "    <tr>\n",
       "      <th>...</th>\n",
       "      <td>...</td>\n",
       "      <td>...</td>\n",
       "      <td>...</td>\n",
       "      <td>...</td>\n",
       "      <td>...</td>\n",
       "    </tr>\n",
       "    <tr>\n",
       "      <th>165</th>\n",
       "      <td>SULAWESI BARAT</td>\n",
       "      <td>2017</td>\n",
       "      <td>SEDANG</td>\n",
       "      <td>10.59</td>\n",
       "      <td>46.72</td>\n",
       "    </tr>\n",
       "    <tr>\n",
       "      <th>166</th>\n",
       "      <td>MALUKU</td>\n",
       "      <td>2017</td>\n",
       "      <td>SEDANG</td>\n",
       "      <td>26.57</td>\n",
       "      <td>44.18</td>\n",
       "    </tr>\n",
       "    <tr>\n",
       "      <th>167</th>\n",
       "      <td>MALUKU UTARA</td>\n",
       "      <td>2017</td>\n",
       "      <td>SEDANG</td>\n",
       "      <td>34.05</td>\n",
       "      <td>42.85</td>\n",
       "    </tr>\n",
       "    <tr>\n",
       "      <th>168</th>\n",
       "      <td>PAPUA BARAT</td>\n",
       "      <td>2017</td>\n",
       "      <td>SEDANG</td>\n",
       "      <td>27.22</td>\n",
       "      <td>41.31</td>\n",
       "    </tr>\n",
       "    <tr>\n",
       "      <th>169</th>\n",
       "      <td>PAPUA</td>\n",
       "      <td>2017</td>\n",
       "      <td>SANGAT RENDAH</td>\n",
       "      <td>34.27</td>\n",
       "      <td>33.80</td>\n",
       "    </tr>\n",
       "  </tbody>\n",
       "</table>\n",
       "<p>170 rows × 5 columns</p>\n",
       "</div>"
      ],
      "text/plain": [
       "               prov  tahun   kategori_pmi  pct_tdk_cukup_pangan  \\\n",
       "0              ACEH   2021         TINGGI                  6.90   \n",
       "1    SUMATERA UTARA   2021         TINGGI                  6.33   \n",
       "2    SUMATERA BARAT   2021         TINGGI                  6.02   \n",
       "3              RIAU   2021         TINGGI                 10.61   \n",
       "4             JAMBI   2021         TINGGI                  9.25   \n",
       "..              ...    ...            ...                   ...   \n",
       "165  SULAWESI BARAT   2017         SEDANG                 10.59   \n",
       "166          MALUKU   2017         SEDANG                 26.57   \n",
       "167    MALUKU UTARA   2017         SEDANG                 34.05   \n",
       "168     PAPUA BARAT   2017         SEDANG                 27.22   \n",
       "169           PAPUA   2017  SANGAT RENDAH                 34.27   \n",
       "\n",
       "     proporsi_kerja_informal_nonpertanian  \n",
       "0                                   46.29  \n",
       "1                                   47.53  \n",
       "2                                   51.56  \n",
       "3                                   44.07  \n",
       "4                                   45.97  \n",
       "..                                    ...  \n",
       "165                                 46.72  \n",
       "166                                 44.18  \n",
       "167                                 42.85  \n",
       "168                                 41.31  \n",
       "169                                 33.80  \n",
       "\n",
       "[170 rows x 5 columns]"
      ]
     },
     "execution_count": 235,
     "metadata": {},
     "output_type": "execute_result"
    }
   ],
   "source": [
    "data_pmi_new = data_pmi_new.merge(data_proporsiKerja[(data_proporsiKerja.tahun >= 2017)], how = 'left', on=['tahun', 'prov'])\n",
    "data_pmi_new"
   ]
  },
  {
   "attachments": {},
   "cell_type": "markdown",
   "metadata": {},
   "source": [
    "Merge data pmi baru dengan data persentase penyewa rumah. Dikarenakan data pmi baru hanya memiliki data dari 2017, maka data ditahun sebelumnya akan diabaikan"
   ]
  },
  {
   "cell_type": "code",
   "execution_count": 236,
   "metadata": {},
   "outputs": [
    {
     "data": {
      "text/html": [
       "<div>\n",
       "<style scoped>\n",
       "    .dataframe tbody tr th:only-of-type {\n",
       "        vertical-align: middle;\n",
       "    }\n",
       "\n",
       "    .dataframe tbody tr th {\n",
       "        vertical-align: top;\n",
       "    }\n",
       "\n",
       "    .dataframe thead th {\n",
       "        text-align: right;\n",
       "    }\n",
       "</style>\n",
       "<table border=\"1\" class=\"dataframe\">\n",
       "  <thead>\n",
       "    <tr style=\"text-align: right;\">\n",
       "      <th></th>\n",
       "      <th>prov</th>\n",
       "      <th>tahun</th>\n",
       "      <th>kategori_pmi</th>\n",
       "      <th>pct_tdk_cukup_pangan</th>\n",
       "      <th>proporsi_kerja_informal_nonpertanian</th>\n",
       "      <th>persen_rumah_menyewa</th>\n",
       "    </tr>\n",
       "  </thead>\n",
       "  <tbody>\n",
       "    <tr>\n",
       "      <th>0</th>\n",
       "      <td>ACEH</td>\n",
       "      <td>2021</td>\n",
       "      <td>TINGGI</td>\n",
       "      <td>6.90</td>\n",
       "      <td>46.29</td>\n",
       "      <td>6.86</td>\n",
       "    </tr>\n",
       "    <tr>\n",
       "      <th>1</th>\n",
       "      <td>SUMATERA UTARA</td>\n",
       "      <td>2021</td>\n",
       "      <td>TINGGI</td>\n",
       "      <td>6.33</td>\n",
       "      <td>47.53</td>\n",
       "      <td>14.13</td>\n",
       "    </tr>\n",
       "    <tr>\n",
       "      <th>2</th>\n",
       "      <td>SUMATERA BARAT</td>\n",
       "      <td>2021</td>\n",
       "      <td>TINGGI</td>\n",
       "      <td>6.02</td>\n",
       "      <td>51.56</td>\n",
       "      <td>11.37</td>\n",
       "    </tr>\n",
       "    <tr>\n",
       "      <th>3</th>\n",
       "      <td>RIAU</td>\n",
       "      <td>2021</td>\n",
       "      <td>TINGGI</td>\n",
       "      <td>10.61</td>\n",
       "      <td>44.07</td>\n",
       "      <td>11.82</td>\n",
       "    </tr>\n",
       "    <tr>\n",
       "      <th>4</th>\n",
       "      <td>JAMBI</td>\n",
       "      <td>2021</td>\n",
       "      <td>TINGGI</td>\n",
       "      <td>9.25</td>\n",
       "      <td>45.97</td>\n",
       "      <td>5.95</td>\n",
       "    </tr>\n",
       "    <tr>\n",
       "      <th>...</th>\n",
       "      <td>...</td>\n",
       "      <td>...</td>\n",
       "      <td>...</td>\n",
       "      <td>...</td>\n",
       "      <td>...</td>\n",
       "      <td>...</td>\n",
       "    </tr>\n",
       "    <tr>\n",
       "      <th>165</th>\n",
       "      <td>SULAWESI BARAT</td>\n",
       "      <td>2017</td>\n",
       "      <td>SEDANG</td>\n",
       "      <td>10.59</td>\n",
       "      <td>46.72</td>\n",
       "      <td>2.69</td>\n",
       "    </tr>\n",
       "    <tr>\n",
       "      <th>166</th>\n",
       "      <td>MALUKU</td>\n",
       "      <td>2017</td>\n",
       "      <td>SEDANG</td>\n",
       "      <td>26.57</td>\n",
       "      <td>44.18</td>\n",
       "      <td>6.53</td>\n",
       "    </tr>\n",
       "    <tr>\n",
       "      <th>167</th>\n",
       "      <td>MALUKU UTARA</td>\n",
       "      <td>2017</td>\n",
       "      <td>SEDANG</td>\n",
       "      <td>34.05</td>\n",
       "      <td>42.85</td>\n",
       "      <td>5.47</td>\n",
       "    </tr>\n",
       "    <tr>\n",
       "      <th>168</th>\n",
       "      <td>PAPUA BARAT</td>\n",
       "      <td>2017</td>\n",
       "      <td>SEDANG</td>\n",
       "      <td>27.22</td>\n",
       "      <td>41.31</td>\n",
       "      <td>13.10</td>\n",
       "    </tr>\n",
       "    <tr>\n",
       "      <th>169</th>\n",
       "      <td>PAPUA</td>\n",
       "      <td>2017</td>\n",
       "      <td>SANGAT RENDAH</td>\n",
       "      <td>34.27</td>\n",
       "      <td>33.80</td>\n",
       "      <td>9.02</td>\n",
       "    </tr>\n",
       "  </tbody>\n",
       "</table>\n",
       "<p>170 rows × 6 columns</p>\n",
       "</div>"
      ],
      "text/plain": [
       "               prov  tahun   kategori_pmi  pct_tdk_cukup_pangan  \\\n",
       "0              ACEH   2021         TINGGI                  6.90   \n",
       "1    SUMATERA UTARA   2021         TINGGI                  6.33   \n",
       "2    SUMATERA BARAT   2021         TINGGI                  6.02   \n",
       "3              RIAU   2021         TINGGI                 10.61   \n",
       "4             JAMBI   2021         TINGGI                  9.25   \n",
       "..              ...    ...            ...                   ...   \n",
       "165  SULAWESI BARAT   2017         SEDANG                 10.59   \n",
       "166          MALUKU   2017         SEDANG                 26.57   \n",
       "167    MALUKU UTARA   2017         SEDANG                 34.05   \n",
       "168     PAPUA BARAT   2017         SEDANG                 27.22   \n",
       "169           PAPUA   2017  SANGAT RENDAH                 34.27   \n",
       "\n",
       "     proporsi_kerja_informal_nonpertanian  persen_rumah_menyewa  \n",
       "0                                   46.29                  6.86  \n",
       "1                                   47.53                 14.13  \n",
       "2                                   51.56                 11.37  \n",
       "3                                   44.07                 11.82  \n",
       "4                                   45.97                  5.95  \n",
       "..                                    ...                   ...  \n",
       "165                                 46.72                  2.69  \n",
       "166                                 44.18                  6.53  \n",
       "167                                 42.85                  5.47  \n",
       "168                                 41.31                 13.10  \n",
       "169                                 33.80                  9.02  \n",
       "\n",
       "[170 rows x 6 columns]"
      ]
     },
     "execution_count": 236,
     "metadata": {},
     "output_type": "execute_result"
    }
   ],
   "source": [
    "data_pmi_new = data_pmi_new.merge(data_menyewa_rumah[(data_menyewa_rumah.tahun >= 2017)], how = 'left', on=['tahun', 'prov'])\n",
    "data_pmi_new"
   ]
  },
  {
   "attachments": {},
   "cell_type": "markdown",
   "metadata": {},
   "source": [
    "Merge data pmi baru dengan data persentase keterampilan pada TIK. Dikarenakan data pmi baru hanya memiliki data dari 2017, maka data ditahun sebelumnya akan diabaikan"
   ]
  },
  {
   "cell_type": "code",
   "execution_count": 237,
   "metadata": {},
   "outputs": [
    {
     "data": {
      "text/html": [
       "<div>\n",
       "<style scoped>\n",
       "    .dataframe tbody tr th:only-of-type {\n",
       "        vertical-align: middle;\n",
       "    }\n",
       "\n",
       "    .dataframe tbody tr th {\n",
       "        vertical-align: top;\n",
       "    }\n",
       "\n",
       "    .dataframe thead th {\n",
       "        text-align: right;\n",
       "    }\n",
       "</style>\n",
       "<table border=\"1\" class=\"dataframe\">\n",
       "  <thead>\n",
       "    <tr style=\"text-align: right;\">\n",
       "      <th></th>\n",
       "      <th>prov</th>\n",
       "      <th>tahun</th>\n",
       "      <th>kategori_pmi</th>\n",
       "      <th>pct_tdk_cukup_pangan</th>\n",
       "      <th>proporsi_kerja_informal_nonpertanian</th>\n",
       "      <th>persen_rumah_menyewa</th>\n",
       "      <th>persen_penduduk_trampil_tik</th>\n",
       "    </tr>\n",
       "  </thead>\n",
       "  <tbody>\n",
       "    <tr>\n",
       "      <th>0</th>\n",
       "      <td>ACEH</td>\n",
       "      <td>2021</td>\n",
       "      <td>TINGGI</td>\n",
       "      <td>6.90</td>\n",
       "      <td>46.29</td>\n",
       "      <td>6.86</td>\n",
       "      <td>60.210000</td>\n",
       "    </tr>\n",
       "    <tr>\n",
       "      <th>1</th>\n",
       "      <td>SUMATERA UTARA</td>\n",
       "      <td>2021</td>\n",
       "      <td>TINGGI</td>\n",
       "      <td>6.33</td>\n",
       "      <td>47.53</td>\n",
       "      <td>14.13</td>\n",
       "      <td>67.410000</td>\n",
       "    </tr>\n",
       "    <tr>\n",
       "      <th>2</th>\n",
       "      <td>SUMATERA BARAT</td>\n",
       "      <td>2021</td>\n",
       "      <td>TINGGI</td>\n",
       "      <td>6.02</td>\n",
       "      <td>51.56</td>\n",
       "      <td>11.37</td>\n",
       "      <td>68.000000</td>\n",
       "    </tr>\n",
       "    <tr>\n",
       "      <th>3</th>\n",
       "      <td>RIAU</td>\n",
       "      <td>2021</td>\n",
       "      <td>TINGGI</td>\n",
       "      <td>10.61</td>\n",
       "      <td>44.07</td>\n",
       "      <td>11.82</td>\n",
       "      <td>70.690000</td>\n",
       "    </tr>\n",
       "    <tr>\n",
       "      <th>4</th>\n",
       "      <td>JAMBI</td>\n",
       "      <td>2021</td>\n",
       "      <td>TINGGI</td>\n",
       "      <td>9.25</td>\n",
       "      <td>45.97</td>\n",
       "      <td>5.95</td>\n",
       "      <td>64.470000</td>\n",
       "    </tr>\n",
       "    <tr>\n",
       "      <th>...</th>\n",
       "      <td>...</td>\n",
       "      <td>...</td>\n",
       "      <td>...</td>\n",
       "      <td>...</td>\n",
       "      <td>...</td>\n",
       "      <td>...</td>\n",
       "      <td>...</td>\n",
       "    </tr>\n",
       "    <tr>\n",
       "      <th>165</th>\n",
       "      <td>SULAWESI BARAT</td>\n",
       "      <td>2017</td>\n",
       "      <td>SEDANG</td>\n",
       "      <td>10.59</td>\n",
       "      <td>46.72</td>\n",
       "      <td>2.69</td>\n",
       "      <td>26.239983</td>\n",
       "    </tr>\n",
       "    <tr>\n",
       "      <th>166</th>\n",
       "      <td>MALUKU</td>\n",
       "      <td>2017</td>\n",
       "      <td>SEDANG</td>\n",
       "      <td>26.57</td>\n",
       "      <td>44.18</td>\n",
       "      <td>6.53</td>\n",
       "      <td>31.553078</td>\n",
       "    </tr>\n",
       "    <tr>\n",
       "      <th>167</th>\n",
       "      <td>MALUKU UTARA</td>\n",
       "      <td>2017</td>\n",
       "      <td>SEDANG</td>\n",
       "      <td>34.05</td>\n",
       "      <td>42.85</td>\n",
       "      <td>5.47</td>\n",
       "      <td>25.095104</td>\n",
       "    </tr>\n",
       "    <tr>\n",
       "      <th>168</th>\n",
       "      <td>PAPUA BARAT</td>\n",
       "      <td>2017</td>\n",
       "      <td>SEDANG</td>\n",
       "      <td>27.22</td>\n",
       "      <td>41.31</td>\n",
       "      <td>13.10</td>\n",
       "      <td>34.680956</td>\n",
       "    </tr>\n",
       "    <tr>\n",
       "      <th>169</th>\n",
       "      <td>PAPUA</td>\n",
       "      <td>2017</td>\n",
       "      <td>SANGAT RENDAH</td>\n",
       "      <td>34.27</td>\n",
       "      <td>33.80</td>\n",
       "      <td>9.02</td>\n",
       "      <td>21.292783</td>\n",
       "    </tr>\n",
       "  </tbody>\n",
       "</table>\n",
       "<p>170 rows × 7 columns</p>\n",
       "</div>"
      ],
      "text/plain": [
       "               prov  tahun   kategori_pmi  pct_tdk_cukup_pangan  \\\n",
       "0              ACEH   2021         TINGGI                  6.90   \n",
       "1    SUMATERA UTARA   2021         TINGGI                  6.33   \n",
       "2    SUMATERA BARAT   2021         TINGGI                  6.02   \n",
       "3              RIAU   2021         TINGGI                 10.61   \n",
       "4             JAMBI   2021         TINGGI                  9.25   \n",
       "..              ...    ...            ...                   ...   \n",
       "165  SULAWESI BARAT   2017         SEDANG                 10.59   \n",
       "166          MALUKU   2017         SEDANG                 26.57   \n",
       "167    MALUKU UTARA   2017         SEDANG                 34.05   \n",
       "168     PAPUA BARAT   2017         SEDANG                 27.22   \n",
       "169           PAPUA   2017  SANGAT RENDAH                 34.27   \n",
       "\n",
       "     proporsi_kerja_informal_nonpertanian  persen_rumah_menyewa  \\\n",
       "0                                   46.29                  6.86   \n",
       "1                                   47.53                 14.13   \n",
       "2                                   51.56                 11.37   \n",
       "3                                   44.07                 11.82   \n",
       "4                                   45.97                  5.95   \n",
       "..                                    ...                   ...   \n",
       "165                                 46.72                  2.69   \n",
       "166                                 44.18                  6.53   \n",
       "167                                 42.85                  5.47   \n",
       "168                                 41.31                 13.10   \n",
       "169                                 33.80                  9.02   \n",
       "\n",
       "     persen_penduduk_trampil_tik  \n",
       "0                      60.210000  \n",
       "1                      67.410000  \n",
       "2                      68.000000  \n",
       "3                      70.690000  \n",
       "4                      64.470000  \n",
       "..                           ...  \n",
       "165                    26.239983  \n",
       "166                    31.553078  \n",
       "167                    25.095104  \n",
       "168                    34.680956  \n",
       "169                    21.292783  \n",
       "\n",
       "[170 rows x 7 columns]"
      ]
     },
     "execution_count": 237,
     "metadata": {},
     "output_type": "execute_result"
    }
   ],
   "source": [
    "data_pmi_new = data_pmi_new.merge(data_trampil[(data_trampil.tahun >= 2017)], how = 'left', on=['tahun', 'prov'])\n",
    "data_pmi_new"
   ]
  },
  {
   "cell_type": "code",
   "execution_count": 238,
   "metadata": {},
   "outputs": [
    {
     "name": "stdout",
     "output_type": "stream",
     "text": [
      "<class 'pandas.core.frame.DataFrame'>\n",
      "Int64Index: 170 entries, 0 to 169\n",
      "Data columns (total 7 columns):\n",
      " #   Column                                Non-Null Count  Dtype  \n",
      "---  ------                                --------------  -----  \n",
      " 0   prov                                  170 non-null    object \n",
      " 1   tahun                                 170 non-null    int64  \n",
      " 2   kategori_pmi                          170 non-null    object \n",
      " 3   pct_tdk_cukup_pangan                  170 non-null    float64\n",
      " 4   proporsi_kerja_informal_nonpertanian  170 non-null    float64\n",
      " 5   persen_rumah_menyewa                  170 non-null    float64\n",
      " 6   persen_penduduk_trampil_tik           170 non-null    float64\n",
      "dtypes: float64(4), int64(1), object(2)\n",
      "memory usage: 10.6+ KB\n"
     ]
    }
   ],
   "source": [
    "data_pmi_new.info()"
   ]
  },
  {
   "attachments": {},
   "cell_type": "markdown",
   "metadata": {},
   "source": [
    "Plot dibawah menggambarkan bahwa pangan yang tidak cukup mempengaruhi tingkat pmi. Walaupun begitu ada anomali dimana beberapa daerah yang memiliki kategori pmi \"sedang\" memiliki persenan pangan tidak cukup dibandingkan dengan daerah dengan tingkatan pmi \"tinggi\" maupun \"sangat tinggi\""
   ]
  },
  {
   "attachments": {},
   "cell_type": "markdown",
   "metadata": {},
   "source": [
    "maka dari itu pangan yang cukup bukanlah faktor satu-satunya namun menjadi salah satu faktor yang mempengaruhi"
   ]
  },
  {
   "cell_type": "code",
   "execution_count": 239,
   "metadata": {},
   "outputs": [
    {
     "data": {
      "image/png": "[encoded data removed]",
      "text/plain": [
       "<Figure size 1000x200 with 1 Axes>"
      ]
     },
     "metadata": {},
     "output_type": "display_data"
    }
   ],
   "source": [
    "pangan_kate = sns.relplot(x=\"pct_tdk_cukup_pangan\",  y=\"tahun\" , hue=\"kategori_pmi\", data=data_pmi_new)\n",
    "pangan_kate.fig.set_size_inches(10,2)"
   ]
  },
  {
   "attachments": {},
   "cell_type": "markdown",
   "metadata": {},
   "source": [
    "Terdapat fenomena unik dimana walaupun kategori PMI meningkat, persenan warga yang menyewa rumah dibanding memiliki rumah sendiri juga meningkat"
   ]
  },
  {
   "cell_type": "code",
   "execution_count": 240,
   "metadata": {},
   "outputs": [
    {
     "data": {
      "image/png": "[encoded data removed]",
      "text/plain": [
       "<Figure size 1000x200 with 1 Axes>"
      ]
     },
     "metadata": {},
     "output_type": "display_data"
    }
   ],
   "source": [
    "sewa_kate = sns.relplot(x=\"persen_rumah_menyewa\",  y=\"tahun\" , hue=\"kategori_pmi\", data=data_pmi_new)\n",
    "sewa_kate.fig.set_size_inches(10,2)"
   ]
  },
  {
   "attachments": {},
   "cell_type": "markdown",
   "metadata": {},
   "source": [
    "Dari perbandingan dibawah, dapat dikatakan bahwa faktor kerja informal pada sektor non pertanian bukanlah faktor yang paling membedakan tiap tingkatan PMI. Tiap tingkatan terlihat tersebar dalam persenan faktor pekerjaan ini, terutama pada tingkatan tinggi dengan sedang."
   ]
  },
  {
   "cell_type": "code",
   "execution_count": 241,
   "metadata": {},
   "outputs": [
    {
     "data": {
      "image/png": "[encoded data removed]",
      "text/plain": [
       "<Figure size 1000x200 with 1 Axes>"
      ]
     },
     "metadata": {},
     "output_type": "display_data"
    }
   ],
   "source": [
    "kerja_kate = sns.relplot(x=\"proporsi_kerja_informal_nonpertanian\",  y=\"tahun\" , hue=\"kategori_pmi\", data=data_pmi_new)\n",
    "kerja_kate.fig.set_size_inches(10,2)"
   ]
  },
  {
   "attachments": {},
   "cell_type": "markdown",
   "metadata": {},
   "source": [
    "Pada persenan terampil, memiliki pengaruh terbesar. Diaman faktor ini menjadi faktor yang paling membedakan tiap tingkatan pmi"
   ]
  },
  {
   "cell_type": "code",
   "execution_count": null,
   "metadata": {},
   "outputs": [],
   "source": []
  },
  {
   "cell_type": "code",
   "execution_count": 242,
   "metadata": {},
   "outputs": [
    {
     "data": {
      "image/png": "[encoded data removed]",
      "text/plain": [
       "<Figure size 1000x200 with 1 Axes>"
      ]
     },
     "metadata": {},
     "output_type": "display_data"
    }
   ],
   "source": [
    "trampil_kate = sns.relplot(x=\"persen_penduduk_trampil_tik\",  y=\"tahun\" , hue=\"kategori_pmi\", data=data_pmi_new)\n",
    "trampil_kate.fig.set_size_inches(10,2)"
   ]
  },
  {
   "attachments": {},
   "cell_type": "markdown",
   "metadata": {},
   "source": [
    "### Pembuatan Model"
   ]
  },
  {
   "attachments": {},
   "cell_type": "markdown",
   "metadata": {},
   "source": [
    "Pembuatan dataset untuk model"
   ]
  },
  {
   "cell_type": "code",
   "execution_count": 243,
   "metadata": {},
   "outputs": [
    {
     "name": "stdout",
     "output_type": "stream",
     "text": [
      "<class 'pandas.core.frame.DataFrame'>\n",
      "Int64Index: 170 entries, 0 to 169\n",
      "Data columns (total 5 columns):\n",
      " #   Column                                Non-Null Count  Dtype  \n",
      "---  ------                                --------------  -----  \n",
      " 0   kategori_pmi                          170 non-null    object \n",
      " 1   pct_tdk_cukup_pangan                  170 non-null    float64\n",
      " 2   proporsi_kerja_informal_nonpertanian  170 non-null    float64\n",
      " 3   persen_rumah_menyewa                  170 non-null    float64\n",
      " 4   persen_penduduk_trampil_tik           170 non-null    float64\n",
      "dtypes: float64(4), object(1)\n",
      "memory usage: 12.0+ KB\n"
     ]
    }
   ],
   "source": [
    "model = data_pmi_new.drop(['prov', 'tahun'], axis = 1)\n",
    "model.info()"
   ]
  },
  {
   "attachments": {},
   "cell_type": "markdown",
   "metadata": {},
   "source": [
    "Klasifikasi terget yang ingin dibuat"
   ]
  },
  {
   "cell_type": "code",
   "execution_count": 244,
   "metadata": {},
   "outputs": [
    {
     "data": {
      "text/plain": [
       "['SANGAT RENDAH', 'SANGAT TINGGI', 'SEDANG', 'TINGGI']"
      ]
     },
     "execution_count": 244,
     "metadata": {},
     "output_type": "execute_result"
    }
   ],
   "source": [
    "le = preprocessing.LabelEncoder()\n",
    "le.fit(model.kategori_pmi)\n",
    "Y = le.transform(model.kategori_pmi)\n",
    "list(le.classes_)"
   ]
  },
  {
   "cell_type": "code",
   "execution_count": 245,
   "metadata": {},
   "outputs": [
    {
     "data": {
      "text/plain": [
       "['SANGAT TINGGI', 'TINGGI', 'SEDANG', 'SANGAT RENDAH']"
      ]
     },
     "execution_count": 245,
     "metadata": {},
     "output_type": "execute_result"
    }
   ],
   "source": [
    "list(le.inverse_transform([1, 3, 2, 0]))"
   ]
  },
  {
   "attachments": {},
   "cell_type": "markdown",
   "metadata": {},
   "source": [
    "Membuat data tanpa target untuk masukan dalam pembuatan model"
   ]
  },
  {
   "cell_type": "code",
   "execution_count": 246,
   "metadata": {},
   "outputs": [],
   "source": [
    "X = model.drop(\"kategori_pmi\",axis=1)"
   ]
  },
  {
   "attachments": {},
   "cell_type": "markdown",
   "metadata": {},
   "source": [
    "Split data training dan data testing"
   ]
  },
  {
   "cell_type": "code",
   "execution_count": 252,
   "metadata": {},
   "outputs": [],
   "source": [
    "from sklearn.model_selection import train_test_split\n",
    "X_train,X_test,Y_train,Y_test=train_test_split(X,Y,test_size=0.5,random_state=123)\n"
   ]
  },
  {
   "attachments": {},
   "cell_type": "markdown",
   "metadata": {},
   "source": [
    "Y_test tidak memiliki nilai '0' sehingga akan ada keliruan pada pembuatan model. Dapat dikarenakan jumlah nilai 0 yang tidak terlalu banyak"
   ]
  },
  {
   "cell_type": "code",
   "execution_count": 254,
   "metadata": {},
   "outputs": [
    {
     "data": {
      "text/plain": [
       "array([1, 2, 3])"
      ]
     },
     "execution_count": 254,
     "metadata": {},
     "output_type": "execute_result"
    }
   ],
   "source": [
    "np.unique(Y_test)"
   ]
  },
  {
   "attachments": {},
   "cell_type": "markdown",
   "metadata": {},
   "source": [
    "Pembuatan model dengan Decision Tree"
   ]
  },
  {
   "cell_type": "code",
   "execution_count": 255,
   "metadata": {},
   "outputs": [
    {
     "name": "stdout",
     "output_type": "stream",
     "text": [
      "Akurasi 0.788235294117647\n",
      "              precision    recall  f1-score   support\n",
      "\n",
      "           1       0.50      0.33      0.40         3\n",
      "           2       0.88      0.65      0.75        34\n",
      "           3       0.76      0.92      0.83        48\n",
      "\n",
      "    accuracy                           0.79        85\n",
      "   macro avg       0.71      0.63      0.66        85\n",
      "weighted avg       0.80      0.79      0.78        85\n",
      "\n"
     ]
    }
   ],
   "source": [
    "from sklearn import tree\n",
    "from sklearn.metrics import classification_report\n",
    "from sklearn.metrics import accuracy_score\n",
    "clf = tree.DecisionTreeClassifier()\n",
    "clf.fit(X_train, Y_train)\n",
    "Y_pred = clf.predict(X_test)\n",
    "acc = accuracy_score(Y_test, Y_pred)\n",
    "print(\"Akurasi {}\".format(acc))\n",
    "print(classification_report(Y_test, Y_pred))"
   ]
  },
  {
   "attachments": {},
   "cell_type": "markdown",
   "metadata": {},
   "source": [
    "Pembuatan model dengan Random Forest"
   ]
  },
  {
   "cell_type": "code",
   "execution_count": 256,
   "metadata": {},
   "outputs": [
    {
     "name": "stdout",
     "output_type": "stream",
     "text": [
      "Akurasi 0.8941176470588236\n",
      "              precision    recall  f1-score   support\n",
      "\n",
      "           1       1.00      0.67      0.80         3\n",
      "           2       0.93      0.82      0.87        34\n",
      "           3       0.87      0.96      0.91        48\n",
      "\n",
      "    accuracy                           0.89        85\n",
      "   macro avg       0.93      0.82      0.86        85\n",
      "weighted avg       0.90      0.89      0.89        85\n",
      "\n"
     ]
    }
   ],
   "source": [
    "from sklearn.ensemble import RandomForestClassifier\n",
    "clf = RandomForestClassifier(n_estimators=50, random_state=123)\n",
    "clf.fit(X_train, Y_train)\n",
    "Y_pred = clf.predict(X_test)\n",
    "acc = accuracy_score(Y_test, Y_pred)\n",
    "print(\"Akurasi {}\".format(acc))\n",
    "print(classification_report(Y_test, Y_pred))"
   ]
  },
  {
   "attachments": {},
   "cell_type": "markdown",
   "metadata": {},
   "source": [
    "Pembuatan model dengan XGBoost"
   ]
  },
  {
   "cell_type": "code",
   "execution_count": 257,
   "metadata": {},
   "outputs": [
    {
     "name": "stdout",
     "output_type": "stream",
     "text": [
      "Akurasi 0.9058823529411765\n",
      "              precision    recall  f1-score   support\n",
      "\n",
      "           1       1.00      0.67      0.80         3\n",
      "           2       0.97      0.82      0.89        34\n",
      "           3       0.87      0.98      0.92        48\n",
      "\n",
      "    accuracy                           0.91        85\n",
      "   macro avg       0.95      0.82      0.87        85\n",
      "weighted avg       0.91      0.91      0.90        85\n",
      "\n"
     ]
    }
   ],
   "source": [
    "import xgboost as xgb\n",
    "clf = xgb.XGBClassifier(objective = \"multi:softprob\", num_class = 4, eval_metric = \"mlogloss\", max_depth = 24, gamma=0.1, subsample = 0.90,learning_rate=0.01, n_estimators = 10, nthread=-1)\n",
    "# num_class adalah jumlah kelas\n",
    "clf.fit(X_train, Y_train)\n",
    "Y_pred = clf.predict(X_test)\n",
    "acc = accuracy_score(Y_test, Y_pred)\n",
    "print(\"Akurasi {}\".format(acc))\n",
    "print(classification_report(Y_test, Y_pred))"
   ]
  },
  {
   "attachments": {},
   "cell_type": "markdown",
   "metadata": {},
   "source": [
    "#### Catatan pada model\n",
    "Model yang dibuat tidak mengenali kelas tingkat PMI \"Sangat Rendah\" yang diwakilkan dengan nilai '0'. Dapat dimungkinkan bahwa data tingkat PMI \"Sangat rendah\" terlalu sedikit sehingga model tidak mengenalinya (dapat dilihat pada Y_test dimana tidak memiliki nilai '0' didalamnya). Kemungkinan pemecahan masalah adalah dengan memperbanyak data dari tingkat PMI \"Sangat Rendah\""
   ]
  }
 ],
 "metadata": {
  "kernelspec": {
   "display_name": "Python 3",
   "language": "python",
   "name": "python3"
  },
  "language_info": {
   "codemirror_mode": {
    "name": "ipython",
    "version": 3
   },
   "file_extension": ".py",
   "mimetype": "text/x-python",
   "name": "python",
   "nbconvert_exporter": "python",
   "pygments_lexer": "ipython3",
   "version": "3.10.9"
  },
  "orig_nbformat": 4,
  "vscode": {
   "interpreter": {
    "hash": "7b1f2b33e866b0bf2409397e5f58ba9cdf170d3b7f64c8f359c79998e2f88ad4"
   }
  }
 },
 "nbformat": 4,
 "nbformat_minor": 2
}
