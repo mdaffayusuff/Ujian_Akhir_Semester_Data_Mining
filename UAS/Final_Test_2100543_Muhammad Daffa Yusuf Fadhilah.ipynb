{
 "cells": [
  {
   "attachments": {},
   "cell_type": "markdown",
   "metadata": {},
   "source": [
    "#### Identittas\n",
    "- Muhammad Daffa Yusuf Fadhilah\n",
    "- 2100543\n",
    "- Ilmu Komputer C2 2021"
   ]
  },
  {
   "cell_type": "code",
   "execution_count": null,
   "metadata": {},
   "outputs": [],
   "source": []
  }
 ],
 "metadata": {
  "language_info": {
   "name": "python"
  },
  "orig_nbformat": 4
 },
 "nbformat": 4,
 "nbformat_minor": 2
}
